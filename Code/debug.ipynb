{
 "cells": [
  {
   "cell_type": "code",
   "execution_count": 109,
   "metadata": {},
   "outputs": [
    {
     "name": "stdout",
     "output_type": "stream",
     "text": [
      "The autoreload extension is already loaded. To reload it, use:\n",
      "  %reload_ext autoreload\n"
     ]
    }
   ],
   "source": [
    "# On-the fly reloads of libraries\n",
    "%load_ext autoreload\n",
    "%autoreload 2\n",
    "\n",
    "# Import libraries\n",
    "import numpy as np\n",
    "from astropy.io import fits\n",
    "import matplotlib.pyplot as plt\n",
    "\n",
    "# Local modules\n",
    "from Visualization import plot_stellar\n",
    "from StarDetection import extract_stars\n",
    "from FieldAnalysis import get_image_area_physical, get_diagonal_distance, get_pixel_scale, deg_to_px\n",
    "from Solver import solve_field\n",
    "from IndexHandler import get_index\n",
    "from Visualization import compare_hashes\n",
    "from Utilities import gaia_asterism_to_coords, local_asterism_to_coords\n",
    "\n",
    "# Parameters\n",
    "from dotenv import load_dotenv\n",
    "import os\n",
    "load_dotenv()\n",
    "FIELD_DENSITY = float(os.getenv(\"FIELD_DENSITY\"))\n",
    "\n",
    "# Plotting setting\n",
    "import PyQt5\n",
    "%matplotlib qt5"
   ]
  },
  {
   "attachments": {},
   "cell_type": "markdown",
   "metadata": {},
   "source": [
    "### Get data"
   ]
  },
  {
   "cell_type": "code",
   "execution_count": 276,
   "metadata": {},
   "outputs": [
    {
     "data": {
      "text/plain": [
       "(<Figure size 3420x1876 with 1 Axes>, <Axes: >)"
      ]
     },
     "execution_count": 276,
     "metadata": {},
     "output_type": "execute_result"
    },
    {
     "ename": "",
     "evalue": "",
     "output_type": "error",
     "traceback": [
      "\u001b[1;31mThe Kernel crashed while executing code in the the current cell or a previous cell. Please review the code in the cell(s) to identify a possible cause of the failure. Click <a href='https://aka.ms/vscodeJupyterKernelCrash'>here</a> for more info. View Jupyter <a href='command:jupyter.viewOutput'>log</a> for further details."
     ]
    }
   ],
   "source": [
    "helix = fits.getdata('../Data/Helix.fits')\n",
    "helixhdul = fits.open('../Data/Helix.fits')\n",
    "plot_stellar(helix,stretch=False)"
   ]
  },
  {
   "attachments": {},
   "cell_type": "markdown",
   "metadata": {},
   "source": [
    "### Examine the field"
   ]
  },
  {
   "cell_type": "code",
   "execution_count": 244,
   "metadata": {},
   "outputs": [
    {
     "name": "stdout",
     "output_type": "stream",
     "text": [
      "Field area: 0.26 square degrees\n",
      "Utilized number of stars: 26\n"
     ]
    }
   ],
   "source": [
    "# Get field area\n",
    "field_area = get_image_area_physical(fits.open('../Data/Helix.fits'))\n",
    "print('Field area: {:.2f} square degrees'.format(field_area))\n",
    "\n",
    "# This corresponds to the number of stars in the field\n",
    "n_stars = FIELD_DENSITY * field_area\n",
    "print('Utilized number of stars: {:.0f}'.format(n_stars))\n",
    "\n",
    "pixel_scale = get_pixel_scale(helixhdul)"
   ]
  },
  {
   "attachments": {},
   "cell_type": "markdown",
   "metadata": {},
   "source": [
    "### Run star extraction"
   ]
  },
  {
   "cell_type": "code",
   "execution_count": 250,
   "metadata": {},
   "outputs": [],
   "source": [
    "stars = extract_stars(helix)"
   ]
  },
  {
   "cell_type": "code",
   "execution_count": 163,
   "metadata": {},
   "outputs": [
    {
     "data": {
      "text/plain": [
       "<matplotlib.collections.PathCollection at 0x158485fd0>"
      ]
     },
     "execution_count": 163,
     "metadata": {},
     "output_type": "execute_result"
    }
   ],
   "source": [
    "# Plot the stars\n",
    "fig,ax = plot_stellar(helix,stretch=True,vlims=[3,99.75])\n",
    "for star in stars:\n",
    "    ax.add_artist(plt.Circle((star['x'],star['y']),radius=np.median(star['fwhm'])*1.5,color='r',fill=False))\n",
    "\n",
    "# Highlight the n_stars brightest stars\n",
    "brightest_stars = stars[np.argsort(stars['flux'])[-int(n_stars):]]\n",
    "ax.scatter(brightest_stars['x'],brightest_stars['y'],marker='x',color='g',s=10)"
   ]
  },
  {
   "cell_type": "code",
   "execution_count": 275,
   "metadata": {},
   "outputs": [
    {
     "data": {
      "text/plain": [
       "Text(0.5, 1.0, 'Mean stellar profile')"
      ]
     },
     "execution_count": 275,
     "metadata": {},
     "output_type": "execute_result"
    }
   ],
   "source": [
    "import numpy as np\n",
    "import matplotlib.pyplot as plt\n",
    "\n",
    "# Assuming you have an array of standard deviations\n",
    "std_deviations = stars['fwhm'] / (2 * np.sqrt(2 * np.log(2))) * pixel_scale * 3600 # Arcseconds per deg\n",
    "mean_fwhm = np.mean(stars['fwhm']) * pixel_scale * 3600\n",
    "\n",
    "# Generate some x values\n",
    "x_values = np.linspace(0.75, 1.65, 1000)\n",
    "\n",
    "# Calculate the mean and standard error of the standard deviations\n",
    "mean_std = np.mean(std_deviations)\n",
    "std_error = np.std(std_deviations, ddof=1) / np.sqrt(len(std_deviations))  # Standard error\n",
    "\n",
    "# Calculate the upper and lower bounds for the 1 sigma error band with propagated error\n",
    "upper_bound = (1 / (np.sqrt(2 * np.pi) * mean_std)) * np.exp(-0.5 * ((x_values - mean_std) / (std_error + std_deviations.std())) ** 2)\n",
    "lower_bound = (1 / (np.sqrt(2 * np.pi) * mean_std)) * np.exp(-0.5 * ((x_values - mean_std) / (std_error - std_deviations.std())) ** 2)\n",
    "\n",
    "# Calculate the mean of upper and lower bounds to ensure symmetry around the mean Gaussian\n",
    "mean_upper_lower = (upper_bound + lower_bound) / 2\n",
    "\n",
    "# Plotting\n",
    "fig,ax = plt.subplots(tight_layout=True)\n",
    "ax.plot(x_values, mean_upper_lower, color='k', label='Mean Gaussian')\n",
    "ax.fill_between(x_values, upper_bound, lower_bound, alpha=0.5, label='1 sigma error band')\n",
    "ax.legend()\n",
    "ax.set_xlabel(r'$\\sigma$ (Arcseconds)')\n",
    "ax.set_ylabel('Probability density')\n",
    "ax.set_title('Mean stellar profile')\n",
    "# Highlight FWHM"
   ]
  },
  {
   "cell_type": "code",
   "execution_count": 272,
   "metadata": {},
   "outputs": [
    {
     "data": {
      "text/plain": [
       "2.821829808018934"
      ]
     },
     "execution_count": 272,
     "metadata": {},
     "output_type": "execute_result"
    }
   ],
   "source": [
    "mean_fwhm"
   ]
  },
  {
   "attachments": {},
   "cell_type": "markdown",
   "metadata": {},
   "source": [
    "### Let's examine some star shapes"
   ]
  },
  {
   "cell_type": "code",
   "execution_count": 21,
   "metadata": {},
   "outputs": [
    {
     "data": {
      "text/plain": [
       "0.7262876325625859"
      ]
     },
     "execution_count": 21,
     "metadata": {},
     "output_type": "execute_result"
    }
   ],
   "source": [
    "get_diagonal_distance(helixhdul)"
   ]
  },
  {
   "attachments": {},
   "cell_type": "markdown",
   "metadata": {},
   "source": [
    "### Let's try to solve the field"
   ]
  },
  {
   "cell_type": "code",
   "execution_count": 95,
   "metadata": {},
   "outputs": [
    {
     "name": "stdout",
     "output_type": "stream",
     "text": [
      "Using cached GAIA results.\n"
     ]
    }
   ],
   "source": [
    "gaia_stars = get_index(helixhdul,299,22.3)"
   ]
  },
  {
   "cell_type": "code",
   "execution_count": 96,
   "metadata": {},
   "outputs": [],
   "source": [
    "from AsterismBuilder import build_asterisms_from_GAIA\n",
    "asterisms,hashes_GAIA = build_asterisms_from_GAIA(gaia_stars,visualize=True)"
   ]
  },
  {
   "attachments": {},
   "cell_type": "markdown",
   "metadata": {},
   "source": [
    "#### Build asterims of input image"
   ]
  },
  {
   "cell_type": "code",
   "execution_count": 97,
   "metadata": {},
   "outputs": [],
   "source": [
    "from AsterismBuilder import build_asterisms_from_input_image\n",
    "asterisms,hashes_IMAGE = build_asterisms_from_input_image(helixhdul,visualize=True)"
   ]
  },
  {
   "cell_type": "code",
   "execution_count": 98,
   "metadata": {},
   "outputs": [],
   "source": [
    "# Compare asterism to hash\n",
    "fig,ax = plt.subplots(1,2,figsize=(10,5))\n",
    "asterism = asterisms[0]\n",
    "hash = hashes_IMAGE[0]\n",
    "xs = np.array([asterism['xa'],asterism['xc'], asterism['xd'], asterism['xb']])\n",
    "ys = np.array([asterism['ya'],asterism['yc'], asterism['yd'], asterism['yb']])\n",
    "\n",
    "xs_hash = np.array([0,hash['xc'],hash['xd'],1])\n",
    "ys_hash = np.array([0,hash['yc'],hash['yd'],1])\n",
    "\n",
    "ax[0].scatter(xs,ys,color='r')\n",
    "ax[1].scatter(xs_hash,ys_hash,color='b')\n",
    "\n",
    "order = ['a','c','d','b']\n",
    "\n",
    "for (x,y,letter) in zip(xs,ys,order):\n",
    "    ax[0].annotate(letter,(x,y),color='r',fontsize=20)\n",
    "    \n",
    "for (x,y,letter) in zip(xs_hash,ys_hash,order):\n",
    "    ax[1].annotate(letter,(x,y),color='b',fontsize=20)"
   ]
  },
  {
   "attachments": {},
   "cell_type": "markdown",
   "metadata": {},
   "source": [
    "### With the full solve_field code:"
   ]
  },
  {
   "cell_type": "code",
   "execution_count": 154,
   "metadata": {},
   "outputs": [
    {
     "name": "stdout",
     "output_type": "stream",
     "text": [
      "Using cached GAIA results.\n"
     ]
    }
   ],
   "source": [
    "wcs,score,gaia_asterism,local_asterism,hash_gaia,hash_local = solve_field(helixhdul,299,22.3)"
   ]
  },
  {
   "cell_type": "code",
   "execution_count": 155,
   "metadata": {},
   "outputs": [
    {
     "data": {
      "text/plain": [
       "WCS Keywords\n",
       "\n",
       "Number of WCS axes: 2\n",
       "CTYPE : 'RA---TAN' 'DEC--TAN' \n",
       "CRVAL : 299.8365765541068 22.61438094588813 \n",
       "CRPIX : 1942.530517578125 1105.3917236328125 \n",
       "PC1_1 PC1_2  : 0.9789031629427002 -0.20432473560677206 \n",
       "PC2_1 PC2_2  : 0.20432473560677206 0.9789031629427002 \n",
       "CDELT : 0.000121277460024584 0.000198407287986725 \n",
       "NAXIS : 0  0"
      ]
     },
     "execution_count": 155,
     "metadata": {},
     "output_type": "execute_result"
    }
   ],
   "source": [
    "wcs"
   ]
  },
  {
   "cell_type": "code",
   "execution_count": 156,
   "metadata": {},
   "outputs": [],
   "source": [
    "xs = wcs.world_to_pixel_values(gaia_stars['ra'],gaia_stars['dec'])[0]\n",
    "ys = wcs.world_to_pixel_values(gaia_stars['ra'],gaia_stars['dec'])[1]"
   ]
  },
  {
   "cell_type": "code",
   "execution_count": 158,
   "metadata": {},
   "outputs": [
    {
     "data": {
      "text/plain": [
       "<matplotlib.collections.PathCollection at 0x14ed2ad60>"
      ]
     },
     "execution_count": 158,
     "metadata": {},
     "output_type": "execute_result"
    }
   ],
   "source": [
    "# Plot the GAIA stars and the picture with the new WCS\n",
    "fig,ax = plot_stellar(helix,skycoords=False,stretch=True,vlims=[3,99.75],dpi=100)\n",
    "ax.scatter(xs,ys,marker='o',color='g',s=10)\n",
    "\n",
    "coords_local = local_asterism_to_coords(local_asterism)\n",
    "coords_gaia = gaia_asterism_to_coords(gaia_asterism)\n",
    "coords_gaia_pixels = wcs.world_to_pixel_values(coords_gaia['ra'],coords_gaia['dec'])\n",
    "ax.scatter(coords_gaia_pixels[0],coords_gaia_pixels[1],marker='x',color='r',s=100)\n",
    "ax.scatter(coords_local['x'],coords_local['y'],marker='x',color='b',s=100)\n"
   ]
  },
  {
   "cell_type": "code",
   "execution_count": null,
   "metadata": {},
   "outputs": [],
   "source": []
  }
 ],
 "metadata": {
  "kernelspec": {
   "display_name": "Python 3",
   "language": "python",
   "name": "python3"
  },
  "language_info": {
   "codemirror_mode": {
    "name": "ipython",
    "version": 3
   },
   "file_extension": ".py",
   "mimetype": "text/x-python",
   "name": "python",
   "nbconvert_exporter": "python",
   "pygments_lexer": "ipython3",
   "version": "3.9.13 (v3.9.13:6de2ca5339, May 17 2022, 11:37:23) \n[Clang 13.0.0 (clang-1300.0.29.30)]"
  },
  "orig_nbformat": 4,
  "vscode": {
   "interpreter": {
    "hash": "aee8b7b246df8f9039afb4144a1f6fd8d2ca17a180786b69acc140d282b71a49"
   }
  }
 },
 "nbformat": 4,
 "nbformat_minor": 2
}
