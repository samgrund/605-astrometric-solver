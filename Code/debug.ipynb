{
 "cells": [
  {
   "cell_type": "code",
   "execution_count": 115,
   "metadata": {},
   "outputs": [
    {
     "name": "stdout",
     "output_type": "stream",
     "text": [
      "The autoreload extension is already loaded. To reload it, use:\n",
      "  %reload_ext autoreload\n"
     ]
    }
   ],
   "source": [
    "# On-the fly reloads of libraries\n",
    "%load_ext autoreload\n",
    "%autoreload 2\n",
    "\n",
    "# Import libraries\n",
    "import numpy as np\n",
    "from astropy.io import fits\n",
    "import matplotlib.pyplot as plt\n",
    "\n",
    "# Local modules\n",
    "from Visualization import plot_stellar\n",
    "from StarDetection import extract_stars\n",
    "from FieldAnalysis import get_image_area_physical, get_diagonal_distance, get_pixel_scale, deg_to_px\n",
    "from Solver import solve_field\n",
    "from IndexHandler import get_index\n",
    "from Visualization import compare_hashes\n",
    "from Utilities import gaia_asterism_to_coords, local_asterism_to_coords\n",
    "from astropy.wcs.utils import fit_wcs_from_points\n",
    "import astropy.units as u\n",
    "\n",
    "# Import astropy skycoord\n",
    "from astropy.coordinates import SkyCoord\n",
    "\n",
    "# Parameters\n",
    "from dotenv import load_dotenv\n",
    "import os\n",
    "load_dotenv()\n",
    "FIELD_DENSITY = float(os.getenv(\"FIELD_DENSITY\"))\n",
    "PIXEL_SCALE = float(os.getenv(\"PIXEL_SCALE\"))\n",
    "\n",
    "# Plotting setting\n",
    "import PyQt5\n",
    "%matplotlib qt"
   ]
  },
  {
   "attachments": {},
   "cell_type": "markdown",
   "metadata": {},
   "source": [
    "### Get data"
   ]
  },
  {
   "cell_type": "code",
   "execution_count": 6,
   "metadata": {},
   "outputs": [
    {
     "data": {
      "text/plain": [
       "(<Figure size 3420x1888 with 1 Axes>, <Axes: >)"
      ]
     },
     "execution_count": 6,
     "metadata": {},
     "output_type": "execute_result"
    }
   ],
   "source": [
    "helix = fits.getdata('../Data/Helix.fits')\n",
    "helixhdul = fits.open('../Data/Helix.fits')\n",
    "plot_stellar(helix,stretch=False,vlims=[10,98])"
   ]
  },
  {
   "attachments": {},
   "cell_type": "markdown",
   "metadata": {},
   "source": [
    "### Examine the field"
   ]
  },
  {
   "cell_type": "code",
   "execution_count": 7,
   "metadata": {},
   "outputs": [
    {
     "name": "stdout",
     "output_type": "stream",
     "text": [
      "Field area: 0.28 square degrees\n",
      "Utilized number of stars: 28\n",
      "Pixel scale: 0.00012917 deg/px\n",
      "Field density: 100.0 stars/sq.deg\n"
     ]
    }
   ],
   "source": [
    "# Get field area\n",
    "field_area = get_image_area_physical(fits.open('../Data/Helix.fits'))\n",
    "print('Field area: {:.2f} square degrees'.format(field_area))\n",
    "\n",
    "# This corresponds to the number of stars in the field\n",
    "n_stars = FIELD_DENSITY * field_area\n",
    "print('Utilized number of stars: {:.0f}'.format(n_stars))\n",
    "\n",
    "pixel_scale = get_pixel_scale()\n",
    "print('Pixel scale: {:.8f} deg/px'.format(pixel_scale))\n",
    "\n",
    "print(f\"Field density: {FIELD_DENSITY} stars/sq.deg\")"
   ]
  },
  {
   "attachments": {},
   "cell_type": "markdown",
   "metadata": {},
   "source": [
    "### Run star extraction"
   ]
  },
  {
   "cell_type": "code",
   "execution_count": 8,
   "metadata": {},
   "outputs": [],
   "source": [
    "stars = extract_stars(helix)"
   ]
  },
  {
   "cell_type": "code",
   "execution_count": 9,
   "metadata": {},
   "outputs": [
    {
     "data": {
      "text/plain": [
       "<matplotlib.collections.PathCollection at 0x2e285a6a0>"
      ]
     },
     "execution_count": 9,
     "metadata": {},
     "output_type": "execute_result"
    }
   ],
   "source": [
    "# Plot the stars\n",
    "fig,ax = plot_stellar(helix,stretch=True,vlims=[3,99.75])\n",
    "for star in stars:\n",
    "    ax.add_artist(plt.Circle((star['x'],star['y']),radius=np.median(star['fwhm'])*1.5,color='r',fill=False))\n",
    "\n",
    "# Highlight the n_stars brightest stars\n",
    "brightest_stars = stars[np.argsort(stars['flux'])[-int(n_stars):]]\n",
    "ax.scatter(brightest_stars['x'],brightest_stars['y'],marker='x',color='g',s=10)"
   ]
  },
  {
   "cell_type": "code",
   "execution_count": 12,
   "metadata": {},
   "outputs": [
    {
     "data": {
      "text/plain": [
       "Text(0.5, 1.0, 'Mean stellar profile')"
      ]
     },
     "execution_count": 12,
     "metadata": {},
     "output_type": "execute_result"
    }
   ],
   "source": [
    "import numpy as np\n",
    "import matplotlib.pyplot as plt\n",
    "\n",
    "# Assuming you have an array of standard deviations\n",
    "std_deviations = stars['fwhm'] / (2 * np.sqrt(2 * np.log(2))) * pixel_scale * 3600 # Arcseconds per deg\n",
    "mean_fwhm = np.mean(stars['fwhm']) * pixel_scale * 3600\n",
    "\n",
    "# Generate some x values\n",
    "x_values = np.linspace(0.75, 1.65, 1000)\n",
    "\n",
    "# Calculate the mean and standard error of the standard deviations\n",
    "mean_std = np.mean(std_deviations)\n",
    "std_error = np.std(std_deviations, ddof=1) / np.sqrt(len(std_deviations))  # Standard error\n",
    "\n",
    "# Calculate the upper and lower bounds for the 1 sigma error band with propagated error\n",
    "upper_bound = (1 / (np.sqrt(2 * np.pi) * mean_std)) * np.exp(-0.5 * ((x_values - mean_std) / (std_error + std_deviations.std())) ** 2)\n",
    "lower_bound = (1 / (np.sqrt(2 * np.pi) * mean_std)) * np.exp(-0.5 * ((x_values - mean_std) / (std_error - std_deviations.std())) ** 2)\n",
    "\n",
    "# Calculate the mean of upper and lower bounds to ensure symmetry around the mean Gaussian\n",
    "mean_upper_lower = (upper_bound + lower_bound) / 2\n",
    "\n",
    "# Plotting\n",
    "fig,ax = plt.subplots(tight_layout=True)\n",
    "ax.plot(x_values, mean_upper_lower, color='k', label='Mean Gaussian')\n",
    "ax.fill_between(x_values, upper_bound, lower_bound, alpha=0.5, label='1 sigma error band')\n",
    "ax.legend()\n",
    "ax.set_xlabel(r'$\\sigma$ (Arcseconds)')\n",
    "ax.set_ylabel('Probability density')\n",
    "ax.set_title('Mean stellar profile')\n",
    "# Highlight FWHM"
   ]
  },
  {
   "attachments": {},
   "cell_type": "markdown",
   "metadata": {},
   "source": [
    "### Let's try to solve the field"
   ]
  },
  {
   "cell_type": "code",
   "execution_count": 18,
   "metadata": {},
   "outputs": [
    {
     "name": "stdout",
     "output_type": "stream",
     "text": [
      "Checking cache entries ...\n",
      "Found relevant cache entry: ./GAIACache/337.30_-20.80_FD100.00_SRM2.00.votable.gz.\n",
      "Using cached GAIA results.\n"
     ]
    }
   ],
   "source": [
    "gaia_stars = get_index(helixhdul,337.3,-20.8)"
   ]
  },
  {
   "attachments": {},
   "cell_type": "markdown",
   "metadata": {},
   "source": [
    "#### Build asterims of input image"
   ]
  },
  {
   "cell_type": "code",
   "execution_count": 21,
   "metadata": {},
   "outputs": [],
   "source": [
    "from AsterismBuilder import build_asterisms_from_input_image\n",
    "from AsterismBuilder import build_asterisms_from_GAIA\n",
    "\n",
    "asterisms_GAIA,hashes_GAIA = build_asterisms_from_GAIA(gaia_stars,visualize=True)\n",
    "asterisms,hashes_IMAGE = build_asterisms_from_input_image(helixhdul,visualize=True)"
   ]
  },
  {
   "cell_type": "code",
   "execution_count": 22,
   "metadata": {},
   "outputs": [],
   "source": [
    "# Compare asterism to hash\n",
    "fig,ax = plt.subplots(1,2,figsize=(10,5),tight_layout=True)\n",
    "asterism = asterisms[0]\n",
    "hash = hashes_IMAGE[0]\n",
    "xs = np.array([asterism['xa'],asterism['xc'], asterism['xd'], asterism['xb']])\n",
    "ys = np.array([asterism['ya'],asterism['yc'], asterism['yd'], asterism['yb']])\n",
    "\n",
    "xs_hash = np.array([0,hash['xc'],hash['xd'],hash['xb']])\n",
    "ys_hash = np.array([0,hash['yc'],hash['yd'],hash['yb']])\n",
    "\n",
    "ax[0].scatter(xs,ys,color='r')\n",
    "ax[0].set_xlabel('x [px]')\n",
    "ax[0].set_ylabel('y [px]')\n",
    "\n",
    "ax[1].scatter(xs_hash,ys_hash,color='b')\n",
    "ax[1].set_xlabel('x [deg]')\n",
    "ax[1].set_ylabel('y [deg]')\n",
    "\n",
    "order = ['a','c','d','b']\n",
    "\n",
    "for (x,y,letter) in zip(xs,ys,order):\n",
    "    ax[0].annotate(letter,(x,y),color='r',fontsize=20)\n",
    "    \n",
    "for (x,y,letter) in zip(xs_hash,ys_hash,order):\n",
    "    ax[1].annotate(letter,(x,y),color='b',fontsize=20)"
   ]
  },
  {
   "attachments": {},
   "cell_type": "markdown",
   "metadata": {},
   "source": [
    "### With the full solve_field code:"
   ]
  },
  {
   "cell_type": "code",
   "execution_count": 80,
   "metadata": {},
   "outputs": [
    {
     "name": "stdout",
     "output_type": "stream",
     "text": [
      "Checking cache entries ...\n",
      "Found relevant cache entry: ./GAIACache/337.30_-20.80_FD100.00_SRM2.00.votable.gz.\n",
      "Using cached GAIA results.\n"
     ]
    }
   ],
   "source": []
  },
  {
   "cell_type": "code",
   "execution_count": 131,
   "metadata": {},
   "outputs": [],
   "source": [
    "order = ['a','c','d','b']\n",
    "\n",
    "fig,ax = plt.subplots(1,2,figsize=(10,5),tight_layout=True)\n",
    "ax[0].scatter(gaia_stars['ra'],gaia_stars['dec'],color='r')\n",
    "gaia_xs = np.array([gaia_asterism['xa'],gaia_asterism['xc'], gaia_asterism['xd'], gaia_asterism['xb']])\n",
    "gaia_ys = np.array([gaia_asterism['ya'],gaia_asterism['yc'], gaia_asterism['yd'], gaia_asterism['yb']])\n",
    "ax[0].scatter(gaia_xs,gaia_ys,color='b')\n",
    "for (x,y,letter) in zip(gaia_xs,gaia_ys,order):\n",
    "    ax[0].annotate(letter,(x,y),color='b',fontsize=20)\n",
    "\n",
    "local_xs = np.array([local_asterism['xa'],local_asterism['xc'], local_asterism['xd'], local_asterism['xb']])\n",
    "local_ys = np.array([local_asterism['ya'],local_asterism['yc'], local_asterism['yd'], local_asterism['yb']])\n",
    "imgdata = helix\n",
    "vlims = np.percentile(imgdata,[1,99])\n",
    "ax[1].imshow(imgdata,origin='lower',cmap='gray_r',vmin=vlims[0],vmax=vlims[1])\n",
    "ax[1].scatter(local_xs,local_ys,color='b')\n",
    "ax[1].set_xlim(0,4096)\n",
    "ax[1].set_ylim(0,4096)\n",
    "for (x,y,letter) in zip(local_xs,local_ys,order):\n",
    "    ax[1].annotate(letter,(x,y),color='b',fontsize=20)"
   ]
  },
  {
   "cell_type": "code",
   "execution_count": 132,
   "metadata": {},
   "outputs": [
    {
     "name": "stderr",
     "output_type": "stream",
     "text": [
      "No artists with labels found to put in legend.  Note that artists whose label start with an underscore are ignored when legend() is called with no argument.\n"
     ]
    }
   ],
   "source": [
    "compare_hashes(hash_gaia,hash_local)"
   ]
  },
  {
   "cell_type": "code",
   "execution_count": 133,
   "metadata": {},
   "outputs": [
    {
     "name": "stdout",
     "output_type": "stream",
     "text": [
      "Checking cache entries ...\n",
      "Found relevant cache entry: ./GAIACache/337.30_-20.80_FD100.00_SRM2.00.votable.gz.\n",
      "Using cached GAIA results.\n"
     ]
    }
   ],
   "source": [
    "wcs,score,gaia_asterism,local_asterism,hash_gaia,hash_local,hashnormdiffs = solve_field(helixhdul,337.3,-20.8)\n",
    "\n",
    "gaia_stars_to_coords = wcs.world_to_pixel_values(gaia_stars['ra'],gaia_stars['dec'])\n",
    "\n",
    "# Plot the gaia stars on the image\n",
    "fig,ax = plt.subplots(figsize=(5,5),tight_layout=True)\n",
    "ax.imshow(helix,origin='lower',cmap='gray_r',vmin=vlims[0],vmax=vlims[1])\n",
    "ax.scatter(gaia_stars_to_coords[0],gaia_stars_to_coords[1],color='r')\n",
    "\n",
    "for (x,y,letter) in zip(gaia_xs,gaia_ys,order):\n",
    "    x,y = wcs.world_to_pixel_values(x,y)\n",
    "    ax.scatter(x,y,color='g')\n",
    "    ax.annotate(letter,(x,y),color='g',fontsize=20)\n",
    "    \n",
    "for (x,y,letter) in zip(local_xs,local_ys,order):\n",
    "    ax.scatter(x,y,color='b')\n",
    "    ax.annotate(letter,(x,y),color='b',fontsize=20)\n",
    "    \n",
    "#ax.set_xlim(0,4096)\n",
    "#ax.set_ylim(0,4096)"
   ]
  },
  {
   "attachments": {},
   "cell_type": "markdown",
   "metadata": {},
   "source": [
    "### Work"
   ]
  }
 ],
 "metadata": {
  "kernelspec": {
   "display_name": "Python 3",
   "language": "python",
   "name": "python3"
  },
  "language_info": {
   "codemirror_mode": {
    "name": "ipython",
    "version": 3
   },
   "file_extension": ".py",
   "mimetype": "text/x-python",
   "name": "python",
   "nbconvert_exporter": "python",
   "pygments_lexer": "ipython3",
   "version": "3.9.13"
  },
  "orig_nbformat": 4,
  "vscode": {
   "interpreter": {
    "hash": "aee8b7b246df8f9039afb4144a1f6fd8d2ca17a180786b69acc140d282b71a49"
   }
  }
 },
 "nbformat": 4,
 "nbformat_minor": 2
}
